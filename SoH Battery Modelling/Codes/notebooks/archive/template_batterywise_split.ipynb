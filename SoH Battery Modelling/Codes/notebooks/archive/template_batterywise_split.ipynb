{
 "cells": [
  {
   "cell_type": "markdown",
   "metadata": {},
   "source": [
    "# Import Module"
   ]
  },
  {
   "cell_type": "code",
   "execution_count": 1,
   "metadata": {},
   "outputs": [],
   "source": [
    "import pandas as pd\n",
    "import numpy as np\n",
    "import matplotlib.pyplot as plt\n",
    "from sklearn.metrics import mean_squared_error,mean_absolute_error, r2_score, root_mean_squared_error\n",
    "from sklearn.model_selection import BaseCrossValidator"
   ]
  },
  {
   "cell_type": "markdown",
   "metadata": {},
   "source": [
    "# Read Dataset"
   ]
  },
  {
   "cell_type": "code",
   "execution_count": 2,
   "metadata": {},
   "outputs": [
    {
     "data": {
      "text/plain": [
       "array(['nasa', 'oxford', 'isu'], dtype=object)"
      ]
     },
     "execution_count": 2,
     "metadata": {},
     "output_type": "execute_result"
    }
   ],
   "source": [
    "df = pd.read_csv(\"../Datasets/merged_battery_dataset.csv\")\n",
    "df[\"source\"].unique()"
   ]
  },
  {
   "cell_type": "code",
   "execution_count": null,
   "metadata": {},
   "outputs": [],
   "source": []
  },
  {
   "cell_type": "code",
   "execution_count": 3,
   "metadata": {},
   "outputs": [
    {
     "name": "stdout",
     "output_type": "stream",
     "text": [
      "Initial Dataset entries 6855\n",
      "Dataset entries after drop NaN, inf, -inf 6034\n"
     ]
    }
   ],
   "source": [
    "df = pd.read_csv(\"../Datasets/merged_battery_dataset.csv\")\n",
    "\n",
    "# clean from NaN, -inf, and inf\n",
    "print(f\"Initial Dataset entries {len(df)}\")\n",
    "\n",
    "df = df.drop(columns=[\n",
    "    # 'battery_id',\n",
    "    # 'soh',\n",
    "    # 'computed_q_max_Ah',\n",
    "    'capacity_reported_Ah', # mengurangi dari 6034\n",
    "    # 'q_gap_abs',\n",
    "    # 'q_gap_pct',\n",
    "    'dT_dt_mean', # mengurangi dari 6034\n",
    "    'dT_dt_std', # mengurangi dari 6034\n",
    "    'dT_dt_max', # mengurangi dari 6034\n",
    "    'dT_dt_min', # mengurangi dari 6034\n",
    "    # 'source',\n",
    "    # 'test_condition'\n",
    "])\n",
    "\n",
    "\n",
    "df.replace([np.inf, -np.inf], np.nan, inplace=True)\n",
    "df = df.dropna()\n",
    "# df = df.apply(pd.to_numeric, errors=\"coerce\")\n",
    "\n",
    "print(f\"Dataset entries after drop NaN, inf, -inf {len(df)}\")\n"
   ]
  },
  {
   "cell_type": "markdown",
   "metadata": {},
   "source": [
    "# Custom Battery-Wise Stratified Split"
   ]
  },
  {
   "cell_type": "code",
   "execution_count": 4,
   "metadata": {},
   "outputs": [],
   "source": [
    "class BatteryWiseSplit(BaseCrossValidator):\n",
    "    def __init__(self, n_splits=5, random_state=None, column_group='source'):\n",
    "        self.n_splits = n_splits\n",
    "        self.random_state = random_state\n",
    "        self.column_group = column_group\n",
    "\n",
    "    def get_n_splits(self, X=None, y=None, groups=None):\n",
    "        return self.n_splits\n",
    "    \n",
    "    def split(self, X, y = None, groups = None):\n",
    "        df = X.copy()\n",
    "        if ('battery_id' not in df.columns) or (self.column_group not in df.columns):\n",
    "            raise ValueError(f\"DataFrame must contain 'battery_id' and '{self.column_group}' columns.\")\n",
    "        \n",
    "        rng = np.random.RandomState(self.random_state)\n",
    "        unique_batteries = df[[\"battery_id\", self.column_group]].drop_duplicates()\n",
    "        batteries_by_source = unique_batteries.groupby(self.column_group)[\"battery_id\"].apply(list)\n",
    "        folds = [[] for _ in range(self.n_splits)]\n",
    "\n",
    "        for source, battery_list in batteries_by_source.items():\n",
    "            rng.shuffle(battery_list)\n",
    "            for i, battery_id in enumerate(battery_list):\n",
    "                folds[i % self.n_splits].append(battery_id)\n",
    "\n",
    "        for i in range(self.n_splits):\n",
    "            val_batteries = set(folds[i])\n",
    "            train_batteries = set(unique_batteries[\"battery_id\"]) - val_batteries\n",
    "            train_idx = df[df[\"battery_id\"].isin(train_batteries)].index.values\n",
    "            val_idx = df[df[\"battery_id\"].isin(val_batteries)].index.values\n",
    "\n",
    "            yield train_idx, val_idx"
   ]
  },
  {
   "cell_type": "markdown",
   "metadata": {},
   "source": [
    "# Modeling"
   ]
  },
  {
   "cell_type": "markdown",
   "metadata": {},
   "source": [
    "## Define Features and Targe"
   ]
  },
  {
   "cell_type": "code",
   "execution_count": 5,
   "metadata": {},
   "outputs": [
    {
     "data": {
      "text/plain": [
       "Index(['battery_id', 'cycle_idx', 'rated_capacity', 'ambient_temperature',\n",
       "       'capacity', 'soh', 'computed_q_max_Ah', 'duration', 'q_gap_abs',\n",
       "       'q_gap_pct', 'dv_dt_mean', 'dv_dt_std', 'dv_dt_max', 'dv_dt_min',\n",
       "       'dq_dt_mean', 'dq_dt_std', 'dq_dt_max', 'dq_dt_min', 'test_condition',\n",
       "       'source'],\n",
       "      dtype='object')"
      ]
     },
     "execution_count": 5,
     "metadata": {},
     "output_type": "execute_result"
    }
   ],
   "source": [
    "df.columns"
   ]
  },
  {
   "cell_type": "code",
   "execution_count": 6,
   "metadata": {},
   "outputs": [],
   "source": [
    "features_column = ['battery_id', 'cycle_idx', 'rated_capacity', 'ambient_temperature',\n",
    "       'computed_q_max_Ah', \n",
    "       'duration', 'q_gap_abs', 'q_gap_pct', 'dv_dt_mean', 'dv_dt_std',\n",
    "       'dv_dt_max', 'dv_dt_min', 'dq_dt_mean', 'dq_dt_std', 'dq_dt_max', 'dq_dt_min',\n",
    "       'test_condition', 'source']\n",
    "target_column = 'soh'\n",
    "\n",
    "X = df[features_column]\n",
    "y = df[target_column]"
   ]
  },
  {
   "cell_type": "markdown",
   "metadata": {},
   "source": [
    "## Split Train Test"
   ]
  },
  {
   "cell_type": "code",
   "execution_count": 7,
   "metadata": {},
   "outputs": [
    {
     "name": "stdout",
     "output_type": "stream",
     "text": [
      "4633\n",
      "1401\n"
     ]
    }
   ],
   "source": [
    "splitter = BatteryWiseSplit(n_splits=5, random_state=42, column_group='source')\n",
    "\n",
    "df.reset_index(drop=True, inplace=True)\n",
    "train_idx, test_idx = next(splitter.split(df))\n",
    "\n",
    "df1, df_test = df.iloc[train_idx], df.iloc[test_idx]\n",
    "print(len(train_idx))\n",
    "print(len(test_idx))\n"
   ]
  },
  {
   "cell_type": "markdown",
   "metadata": {},
   "source": [
    "## Initialize custom CV"
   ]
  },
  {
   "cell_type": "code",
   "execution_count": 8,
   "metadata": {},
   "outputs": [],
   "source": [
    "cv = BatteryWiseSplit(n_splits=5, random_state=1, column_group='source')"
   ]
  },
  {
   "cell_type": "markdown",
   "metadata": {},
   "source": [
    "## Initialize Model"
   ]
  },
  {
   "cell_type": "code",
   "execution_count": 9,
   "metadata": {},
   "outputs": [],
   "source": [
    "# Import simple models from sklearn\n",
    "from sklearn.ensemble import RandomForestRegressor\n",
    "from sklearn.svm import SVR\n",
    "from sklearn.linear_model import LinearRegression\n",
    "from sklearn.neighbors import KNeighborsRegressor\n",
    "from xgboost import XGBRegressor\n",
    "\n",
    "model = XGBRegressor(\n",
    "    n_estimators=50,\n",
    "    learning_rate=0.1,\n",
    "    random_state=42,\n",
    "    n_jobs=-1\n",
    ")\n",
    "\n",
    "# CHOOSE YOUR MODEL HERE 👇\n",
    "# model = RandomForestRegressor(\n",
    "#     n_estimators=100,\n",
    "#     random_state=42,\n",
    "#     n_jobs=-1\n",
    "# )\n",
    "# model = SVR(kernel='rbf', C=10)\n",
    "model = LinearRegression()\n",
    "# model = KNeighborsRegressor(n_neighbors=5)"
   ]
  },
  {
   "cell_type": "markdown",
   "metadata": {},
   "source": [
    "## Cross Validation loop"
   ]
  },
  {
   "cell_type": "code",
   "execution_count": 10,
   "metadata": {},
   "outputs": [
    {
     "name": "stdout",
     "output_type": "stream",
     "text": [
      "Fold 1 — RMSE: 0.2405, MAE: 0.1181, R²: 0.0171\n",
      "Fold 2 — RMSE: 0.0653, MAE: 0.0367, R²: 0.8735\n",
      "Fold 3 — RMSE: 0.0632, MAE: 0.0313, R²: 0.9132\n",
      "Fold 4 — RMSE: 0.1530, MAE: 0.0702, R²: 0.7344\n",
      "Fold 5 — RMSE: 0.0692, MAE: 0.0345, R²: 0.8798\n",
      "\n",
      "=== Average Performance ===\n",
      "Average RMSE: 0.1182\n",
      "Average MAE : 0.0582\n",
      "Average R²  : 0.6836\n"
     ]
    }
   ],
   "source": [
    "# === Initialize Metrics ===\n",
    "rmse_scores, mae_scores, r2_scores = [], [], []\n",
    "\n",
    "# === Reset Index for Consistent iloc Access ===\n",
    "df1.reset_index(drop=True, inplace=True)\n",
    "\n",
    "# === Cross-Validation Loop ===\n",
    "for fold, (train_idx, val_idx) in enumerate(cv.split(df1), 1):\n",
    "    # Select Features and Target\n",
    "    X = df1[features_column]\n",
    "    y = df1[target_column]\n",
    "\n",
    "    # One-Hot Encode Categorical Features (avoiding leakage by using entire X, not split parts)\n",
    "    cat_cols = X.select_dtypes(include='object').columns.tolist()\n",
    "    X_encoded = pd.get_dummies(X, columns=cat_cols, drop_first=True)\n",
    "    X_encoded = X_encoded.fillna(0)\n",
    "\n",
    "    # Split into Training and Validation Sets\n",
    "    X_train, X_val = X_encoded.iloc[train_idx], X_encoded.iloc[val_idx]\n",
    "    y_train, y_val = y.iloc[train_idx], y.iloc[val_idx]\n",
    "\n",
    "    # Train Model and Predict\n",
    "    model.fit(X_train, y_train)\n",
    "    y_pred = model.predict(X_val)\n",
    "\n",
    "    # Evaluate\n",
    "    rmse_scores.append(root_mean_squared_error(y_val, y_pred))\n",
    "    mae_scores.append(mean_absolute_error(y_val, y_pred))\n",
    "    r2_scores.append(r2_score(y_val, y_pred))\n",
    "\n",
    "    print(f\"Fold {fold} — RMSE: {rmse_scores[-1]:.4f}, MAE: {mae_scores[-1]:.4f}, R²: {r2_scores[-1]:.4f}\")\n",
    "\n",
    "# === Final Evaluation Summary ===\n",
    "print(\"\\n=== Average Performance ===\")\n",
    "print(f\"Average RMSE: {np.mean(rmse_scores):.4f}\")\n",
    "print(f\"Average MAE : {np.mean(mae_scores):.4f}\")\n",
    "print(f\"Average R²  : {np.mean(r2_scores):.4f}\")\n"
   ]
  },
  {
   "cell_type": "code",
   "execution_count": null,
   "metadata": {},
   "outputs": [],
   "source": []
  }
 ],
 "metadata": {
  "kernelspec": {
   "display_name": "venv",
   "language": "python",
   "name": "python3"
  },
  "language_info": {
   "codemirror_mode": {
    "name": "ipython",
    "version": 3
   },
   "file_extension": ".py",
   "mimetype": "text/x-python",
   "name": "python",
   "nbconvert_exporter": "python",
   "pygments_lexer": "ipython3",
   "version": "3.12.4"
  }
 },
 "nbformat": 4,
 "nbformat_minor": 2
}
