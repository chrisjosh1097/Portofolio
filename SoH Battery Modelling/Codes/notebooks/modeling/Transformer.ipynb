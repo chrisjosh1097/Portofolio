{
 "cells": [
  {
   "cell_type": "code",
   "execution_count": 7,
   "id": "8e6dbc3d",
   "metadata": {},
   "outputs": [],
   "source": [
    "import sys\n",
    "import os\n",
    "\n",
    "# Add Codes/src to the Python path\n",
    "sys.path.append(os.path.abspath(os.path.join(os.getcwd(), '../../src')))"
   ]
  },
  {
   "cell_type": "code",
   "execution_count": 8,
   "id": "45306d5f",
   "metadata": {},
   "outputs": [],
   "source": [
    "import pandas as pd\n",
    "import numpy as np\n",
    "import torch\n",
    "from xgboost import XGBRegressor\n",
    "from sklearn.metrics import mean_squared_error, mean_absolute_error, r2_score\n",
    "import random\n",
    "\n",
    "from train_utils import BatteryTrainerBase"
   ]
  },
  {
   "cell_type": "code",
   "execution_count": 9,
   "id": "ec058180",
   "metadata": {},
   "outputs": [],
   "source": [
    "SEED = 42\n",
    "\n",
    "random.seed(SEED)\n",
    "np.random.seed(SEED)\n",
    "torch.manual_seed(SEED)\n",
    "torch.cuda.manual_seed(SEED)\n",
    "torch.backends.cudnn.deterministic = True\n",
    "torch.backends.cudnn.benchmark = False"
   ]
  },
  {
   "cell_type": "code",
   "execution_count": 10,
   "id": "c22d6e5c",
   "metadata": {},
   "outputs": [
    {
     "data": {
      "text/html": [
       "<div>\n",
       "<style scoped>\n",
       "    .dataframe tbody tr th:only-of-type {\n",
       "        vertical-align: middle;\n",
       "    }\n",
       "\n",
       "    .dataframe tbody tr th {\n",
       "        vertical-align: top;\n",
       "    }\n",
       "\n",
       "    .dataframe thead th {\n",
       "        text-align: right;\n",
       "    }\n",
       "</style>\n",
       "<table border=\"1\" class=\"dataframe\">\n",
       "  <thead>\n",
       "    <tr style=\"text-align: right;\">\n",
       "      <th></th>\n",
       "      <th>cell_id</th>\n",
       "      <th>rated_capacity</th>\n",
       "      <th>cycle_index</th>\n",
       "      <th>capacity</th>\n",
       "      <th>soh</th>\n",
       "      <th>dqdt_min</th>\n",
       "      <th>dqdt_max</th>\n",
       "      <th>dqdt_mean</th>\n",
       "      <th>dqdt_std</th>\n",
       "      <th>dvdt_min</th>\n",
       "      <th>...</th>\n",
       "      <th>i_interp_991</th>\n",
       "      <th>i_interp_992</th>\n",
       "      <th>i_interp_993</th>\n",
       "      <th>i_interp_994</th>\n",
       "      <th>i_interp_995</th>\n",
       "      <th>i_interp_996</th>\n",
       "      <th>i_interp_997</th>\n",
       "      <th>i_interp_998</th>\n",
       "      <th>i_interp_999</th>\n",
       "      <th>source</th>\n",
       "    </tr>\n",
       "  </thead>\n",
       "  <tbody>\n",
       "    <tr>\n",
       "      <th>0</th>\n",
       "      <td>B0005</td>\n",
       "      <td>2.0</td>\n",
       "      <td>1</td>\n",
       "      <td>1.856487</td>\n",
       "      <td>0.928244</td>\n",
       "      <td>-1.332504e-07</td>\n",
       "      <td>0.002876</td>\n",
       "      <td>0.000528</td>\n",
       "      <td>0.000255</td>\n",
       "      <td>-0.006229</td>\n",
       "      <td>...</td>\n",
       "      <td>0.004819</td>\n",
       "      <td>0.004902</td>\n",
       "      <td>0.004902</td>\n",
       "      <td>0.004902</td>\n",
       "      <td>0.004902</td>\n",
       "      <td>0.004902</td>\n",
       "      <td>0.004902</td>\n",
       "      <td>0.004902</td>\n",
       "      <td>0.004902</td>\n",
       "      <td>nasa</td>\n",
       "    </tr>\n",
       "    <tr>\n",
       "      <th>1</th>\n",
       "      <td>B0005</td>\n",
       "      <td>2.0</td>\n",
       "      <td>3</td>\n",
       "      <td>1.846327</td>\n",
       "      <td>0.923164</td>\n",
       "      <td>-4.510385e-07</td>\n",
       "      <td>0.002894</td>\n",
       "      <td>0.000527</td>\n",
       "      <td>0.000257</td>\n",
       "      <td>-0.006004</td>\n",
       "      <td>...</td>\n",
       "      <td>-0.000021</td>\n",
       "      <td>-0.000021</td>\n",
       "      <td>-0.000021</td>\n",
       "      <td>-0.000021</td>\n",
       "      <td>-0.000021</td>\n",
       "      <td>-0.000021</td>\n",
       "      <td>-0.000021</td>\n",
       "      <td>-0.000021</td>\n",
       "      <td>-0.000021</td>\n",
       "      <td>nasa</td>\n",
       "    </tr>\n",
       "    <tr>\n",
       "      <th>2</th>\n",
       "      <td>B0005</td>\n",
       "      <td>2.0</td>\n",
       "      <td>5</td>\n",
       "      <td>1.835349</td>\n",
       "      <td>0.917675</td>\n",
       "      <td>-1.163391e-07</td>\n",
       "      <td>0.002333</td>\n",
       "      <td>0.000520</td>\n",
       "      <td>0.000227</td>\n",
       "      <td>-0.005953</td>\n",
       "      <td>...</td>\n",
       "      <td>0.001754</td>\n",
       "      <td>0.001754</td>\n",
       "      <td>0.001754</td>\n",
       "      <td>0.001754</td>\n",
       "      <td>0.001754</td>\n",
       "      <td>0.001754</td>\n",
       "      <td>0.001754</td>\n",
       "      <td>0.001754</td>\n",
       "      <td>0.001754</td>\n",
       "      <td>nasa</td>\n",
       "    </tr>\n",
       "    <tr>\n",
       "      <th>3</th>\n",
       "      <td>B0005</td>\n",
       "      <td>2.0</td>\n",
       "      <td>7</td>\n",
       "      <td>1.835263</td>\n",
       "      <td>0.917631</td>\n",
       "      <td>-2.062661e-07</td>\n",
       "      <td>0.002885</td>\n",
       "      <td>0.000530</td>\n",
       "      <td>0.000255</td>\n",
       "      <td>-0.005907</td>\n",
       "      <td>...</td>\n",
       "      <td>0.002775</td>\n",
       "      <td>0.002775</td>\n",
       "      <td>0.002775</td>\n",
       "      <td>0.002775</td>\n",
       "      <td>0.002775</td>\n",
       "      <td>0.002775</td>\n",
       "      <td>0.002775</td>\n",
       "      <td>0.002775</td>\n",
       "      <td>0.002775</td>\n",
       "      <td>nasa</td>\n",
       "    </tr>\n",
       "    <tr>\n",
       "      <th>4</th>\n",
       "      <td>B0005</td>\n",
       "      <td>2.0</td>\n",
       "      <td>9</td>\n",
       "      <td>1.834646</td>\n",
       "      <td>0.917323</td>\n",
       "      <td>-5.353266e-07</td>\n",
       "      <td>0.002896</td>\n",
       "      <td>0.000530</td>\n",
       "      <td>0.000256</td>\n",
       "      <td>-0.005923</td>\n",
       "      <td>...</td>\n",
       "      <td>0.007981</td>\n",
       "      <td>0.007981</td>\n",
       "      <td>0.007981</td>\n",
       "      <td>0.007981</td>\n",
       "      <td>0.007981</td>\n",
       "      <td>0.007981</td>\n",
       "      <td>0.007981</td>\n",
       "      <td>0.007981</td>\n",
       "      <td>0.007981</td>\n",
       "      <td>nasa</td>\n",
       "    </tr>\n",
       "  </tbody>\n",
       "</table>\n",
       "<p>5 rows × 2018 columns</p>\n",
       "</div>"
      ],
      "text/plain": [
       "  cell_id  rated_capacity  cycle_index  capacity       soh      dqdt_min  \\\n",
       "0   B0005             2.0            1  1.856487  0.928244 -1.332504e-07   \n",
       "1   B0005             2.0            3  1.846327  0.923164 -4.510385e-07   \n",
       "2   B0005             2.0            5  1.835349  0.917675 -1.163391e-07   \n",
       "3   B0005             2.0            7  1.835263  0.917631 -2.062661e-07   \n",
       "4   B0005             2.0            9  1.834646  0.917323 -5.353266e-07   \n",
       "\n",
       "   dqdt_max  dqdt_mean  dqdt_std  dvdt_min  ...  i_interp_991  i_interp_992  \\\n",
       "0  0.002876   0.000528  0.000255 -0.006229  ...      0.004819      0.004902   \n",
       "1  0.002894   0.000527  0.000257 -0.006004  ...     -0.000021     -0.000021   \n",
       "2  0.002333   0.000520  0.000227 -0.005953  ...      0.001754      0.001754   \n",
       "3  0.002885   0.000530  0.000255 -0.005907  ...      0.002775      0.002775   \n",
       "4  0.002896   0.000530  0.000256 -0.005923  ...      0.007981      0.007981   \n",
       "\n",
       "   i_interp_993  i_interp_994  i_interp_995  i_interp_996  i_interp_997  \\\n",
       "0      0.004902      0.004902      0.004902      0.004902      0.004902   \n",
       "1     -0.000021     -0.000021     -0.000021     -0.000021     -0.000021   \n",
       "2      0.001754      0.001754      0.001754      0.001754      0.001754   \n",
       "3      0.002775      0.002775      0.002775      0.002775      0.002775   \n",
       "4      0.007981      0.007981      0.007981      0.007981      0.007981   \n",
       "\n",
       "   i_interp_998  i_interp_999  source  \n",
       "0      0.004902      0.004902    nasa  \n",
       "1     -0.000021     -0.000021    nasa  \n",
       "2      0.001754      0.001754    nasa  \n",
       "3      0.002775      0.002775    nasa  \n",
       "4      0.007981      0.007981    nasa  \n",
       "\n",
       "[5 rows x 2018 columns]"
      ]
     },
     "execution_count": 10,
     "metadata": {},
     "output_type": "execute_result"
    }
   ],
   "source": [
    "df = pd.read_pickle('../../../Datasets/processed/merged_interp_flat.pkl')\n",
    "df.head()"
   ]
  },
  {
   "cell_type": "code",
   "execution_count": 11,
   "id": "0bec68d3",
   "metadata": {},
   "outputs": [],
   "source": [
    "import numpy as np\n",
    "import torch\n",
    "import torch.nn as nn\n",
    "from torch.utils.data import DataLoader, TensorDataset\n",
    "from sklearn.metrics import mean_squared_error, mean_absolute_error, r2_score\n",
    "import optuna\n",
    "\n",
    "class SimpleTransformerRegressor(nn.Module):\n",
    "    def __init__(self, input_dim, d_model=64, nhead=4, num_layers=2, dim_feedforward=128, dropout=0.1):\n",
    "        super().__init__()\n",
    "        self.embedding = nn.Linear(input_dim, d_model)\n",
    "        encoder_layer = nn.TransformerEncoderLayer(d_model=d_model, nhead=nhead, dim_feedforward=dim_feedforward, dropout=dropout)\n",
    "        self.transformer = nn.TransformerEncoder(encoder_layer, num_layers=num_layers)\n",
    "        self.regressor = nn.Linear(d_model, 1)\n",
    "\n",
    "    def forward(self, x):\n",
    "        x = self.embedding(x)\n",
    "        x = x.unsqueeze(1)  # [batch_size, seq_len=1, d_model]\n",
    "        x = self.transformer(x)\n",
    "        x = x.mean(dim=1)\n",
    "        return self.regressor(x).squeeze(1)\n",
    "\n",
    "class BatteryTrainer(BatteryTrainerBase):\n",
    "    def train(self, train_df, val_df, feature_cols=None, d_model=64, nhead=4, num_layers=2, lr=1e-3, epochs=50, batch_size=16):\n",
    "        X_train = torch.tensor(train_df[feature_cols].values, dtype=torch.float32)\n",
    "        y_train = torch.tensor(train_df[self.target_cols].values.ravel(), dtype=torch.float32)\n",
    "        X_val = torch.tensor(val_df[feature_cols].values, dtype=torch.float32)\n",
    "        y_val = torch.tensor(val_df[self.target_cols].values.ravel(), dtype=torch.float32)\n",
    "\n",
    "        train_loader = DataLoader(TensorDataset(X_train, y_train), batch_size=batch_size, shuffle=True)\n",
    "\n",
    "        self.model = SimpleTransformerRegressor(input_dim=X_train.shape[1], d_model=d_model, nhead=nhead, num_layers=num_layers)\n",
    "        optimizer = torch.optim.Adam(self.model.parameters(), lr=lr)\n",
    "        loss_fn = nn.MSELoss()\n",
    "\n",
    "        self.model.train()\n",
    "        for epoch in range(epochs):\n",
    "            for xb, yb in train_loader:\n",
    "                pred = self.model(xb)\n",
    "                loss = loss_fn(pred, yb)\n",
    "                optimizer.zero_grad()\n",
    "                loss.backward()\n",
    "                optimizer.step()\n",
    "\n",
    "        self.model.eval()\n",
    "        with torch.no_grad():\n",
    "            y_pred = self.model(X_val).numpy()\n",
    "\n",
    "        print(f\"Transformer Val MSE={mean_squared_error(y_val, y_pred):.4f}, MAE={mean_absolute_error(y_val, y_pred):.4f}, R²={r2_score(y_val, y_pred):.4f}\")\n",
    "        return self.model, y_val.numpy(), y_pred\n",
    "\n",
    "    def optuna_objective(self, trial):\n",
    "        d_model = trial.suggest_categorical(\"d_model\", [32, 64, 128])\n",
    "        nhead = trial.suggest_categorical(\"nhead\", [2, 4, 8])\n",
    "        num_layers = trial.suggest_int(\"num_layers\", 1, 3)\n",
    "        lr = trial.suggest_float(\"lr\", 1e-4, 1e-2, log=True)\n",
    "        batch_size = trial.suggest_categorical(\"batch_size\", [8, 16, 32])\n",
    "\n",
    "        self.cross_validate(\n",
    "            d_model=d_model,\n",
    "            nhead=nhead,\n",
    "            num_layers=num_layers,\n",
    "            lr=lr,\n",
    "            batch_size=batch_size\n",
    "        )\n",
    "        return np.mean(self.mse_scores)\n"
   ]
  },
  {
   "cell_type": "code",
   "execution_count": 12,
   "id": "5d6d0306",
   "metadata": {},
   "outputs": [],
   "source": [
    "trainer = BatteryTrainer(df, target_cols=['soh'])"
   ]
  },
  {
   "cell_type": "code",
   "execution_count": 13,
   "id": "31e891a8",
   "metadata": {},
   "outputs": [
    {
     "name": "stdout",
     "output_type": "stream",
     "text": [
      "\n",
      "=== Fold 1 ===\n",
      "[nasa] Normalizing 2014 features\n",
      "[oxford] Normalizing 2014 features\n",
      "[isu] Normalizing 2014 features\n"
     ]
    },
    {
     "name": "stderr",
     "output_type": "stream",
     "text": [
      "c:\\Users\\chris\\anaconda3\\Lib\\site-packages\\torch\\nn\\modules\\transformer.py:385: UserWarning: enable_nested_tensor is True, but self.use_nested_tensor is False because encoder_layer.self_attn.batch_first was not True(use batch_first for better inference performance)\n",
      "  warnings.warn(\n"
     ]
    },
    {
     "name": "stdout",
     "output_type": "stream",
     "text": [
      "Transformer Val MSE=0.0113, MAE=0.0627, R²=0.8023\n",
      "  MSE: 0.0113, MAE: 0.0627, R²: 0.8023\n",
      "\n",
      "=== Fold 2 ===\n",
      "[nasa] Normalizing 2014 features\n",
      "[oxford] Normalizing 2014 features\n",
      "[isu] Normalizing 2014 features\n"
     ]
    },
    {
     "name": "stderr",
     "output_type": "stream",
     "text": [
      "c:\\Users\\chris\\anaconda3\\Lib\\site-packages\\torch\\nn\\modules\\transformer.py:385: UserWarning: enable_nested_tensor is True, but self.use_nested_tensor is False because encoder_layer.self_attn.batch_first was not True(use batch_first for better inference performance)\n",
      "  warnings.warn(\n"
     ]
    },
    {
     "name": "stdout",
     "output_type": "stream",
     "text": [
      "Transformer Val MSE=0.0042, MAE=0.0531, R²=0.8780\n",
      "  MSE: 0.0042, MAE: 0.0531, R²: 0.8780\n",
      "\n",
      "=== Fold 3 ===\n",
      "[nasa] Normalizing 2014 features\n",
      "[oxford] Normalizing 2014 features\n",
      "[isu] Normalizing 2014 features\n"
     ]
    },
    {
     "name": "stderr",
     "output_type": "stream",
     "text": [
      "c:\\Users\\chris\\anaconda3\\Lib\\site-packages\\torch\\nn\\modules\\transformer.py:385: UserWarning: enable_nested_tensor is True, but self.use_nested_tensor is False because encoder_layer.self_attn.batch_first was not True(use batch_first for better inference performance)\n",
      "  warnings.warn(\n"
     ]
    },
    {
     "name": "stdout",
     "output_type": "stream",
     "text": [
      "Transformer Val MSE=0.0089, MAE=0.0693, R²=0.8064\n",
      "  MSE: 0.0089, MAE: 0.0693, R²: 0.8064\n",
      "\n",
      "=== Fold 4 ===\n",
      "[nasa] Normalizing 2014 features\n",
      "[oxford] Normalizing 2014 features\n",
      "[isu] Normalizing 2014 features\n"
     ]
    },
    {
     "name": "stderr",
     "output_type": "stream",
     "text": [
      "c:\\Users\\chris\\anaconda3\\Lib\\site-packages\\torch\\nn\\modules\\transformer.py:385: UserWarning: enable_nested_tensor is True, but self.use_nested_tensor is False because encoder_layer.self_attn.batch_first was not True(use batch_first for better inference performance)\n",
      "  warnings.warn(\n"
     ]
    },
    {
     "name": "stdout",
     "output_type": "stream",
     "text": [
      "Transformer Val MSE=0.0010, MAE=0.0175, R²=0.9741\n",
      "  MSE: 0.0010, MAE: 0.0175, R²: 0.9741\n",
      "\n",
      "=== Fold 5 ===\n",
      "[nasa] Normalizing 2014 features\n",
      "[oxford] Normalizing 2014 features\n",
      "[isu] Normalizing 2014 features\n"
     ]
    },
    {
     "name": "stderr",
     "output_type": "stream",
     "text": [
      "c:\\Users\\chris\\anaconda3\\Lib\\site-packages\\torch\\nn\\modules\\transformer.py:385: UserWarning: enable_nested_tensor is True, but self.use_nested_tensor is False because encoder_layer.self_attn.batch_first was not True(use batch_first for better inference performance)\n",
      "  warnings.warn(\n"
     ]
    },
    {
     "name": "stdout",
     "output_type": "stream",
     "text": [
      "Transformer Val MSE=0.0017, MAE=0.0190, R²=0.9766\n",
      "  MSE: 0.0017, MAE: 0.0190, R²: 0.9766\n",
      "\n",
      "=== Average CV Performance ===\n",
      "Avg MSE: 0.0054\n",
      "Avg MAE: 0.0443\n",
      "Avg R² : 0.8875\n"
     ]
    }
   ],
   "source": [
    "result = trainer.cross_validate()"
   ]
  },
  {
   "cell_type": "code",
   "execution_count": 14,
   "id": "6ba7657c",
   "metadata": {},
   "outputs": [
    {
     "name": "stderr",
     "output_type": "stream",
     "text": [
      "[I 2025-04-17 13:41:38,102] A new study created in memory with name: no-name-14c2c9d6-b5d3-4107-9ddb-25e305252a23\n"
     ]
    },
    {
     "name": "stdout",
     "output_type": "stream",
     "text": [
      "\n",
      "=== Fold 1 ===\n",
      "[nasa] Normalizing 2014 features\n",
      "[oxford] Normalizing 2014 features\n",
      "[isu] Normalizing 2014 features\n"
     ]
    },
    {
     "name": "stderr",
     "output_type": "stream",
     "text": [
      "c:\\Users\\chris\\anaconda3\\Lib\\site-packages\\torch\\nn\\modules\\transformer.py:385: UserWarning: enable_nested_tensor is True, but self.use_nested_tensor is False because encoder_layer.self_attn.batch_first was not True(use batch_first for better inference performance)\n",
      "  warnings.warn(\n"
     ]
    },
    {
     "name": "stdout",
     "output_type": "stream",
     "text": [
      "Transformer Val MSE=0.0271, MAE=0.1106, R²=0.5256\n",
      "  MSE: 0.0271, MAE: 0.1106, R²: 0.5256\n",
      "\n",
      "=== Fold 2 ===\n",
      "[nasa] Normalizing 2014 features\n",
      "[oxford] Normalizing 2014 features\n",
      "[isu] Normalizing 2014 features\n"
     ]
    },
    {
     "name": "stderr",
     "output_type": "stream",
     "text": [
      "c:\\Users\\chris\\anaconda3\\Lib\\site-packages\\torch\\nn\\modules\\transformer.py:385: UserWarning: enable_nested_tensor is True, but self.use_nested_tensor is False because encoder_layer.self_attn.batch_first was not True(use batch_first for better inference performance)\n",
      "  warnings.warn(\n"
     ]
    },
    {
     "name": "stdout",
     "output_type": "stream",
     "text": [
      "Transformer Val MSE=0.0089, MAE=0.0641, R²=0.7385\n",
      "  MSE: 0.0089, MAE: 0.0641, R²: 0.7385\n",
      "\n",
      "=== Fold 3 ===\n",
      "[nasa] Normalizing 2014 features\n",
      "[oxford] Normalizing 2014 features\n",
      "[isu] Normalizing 2014 features\n"
     ]
    },
    {
     "name": "stderr",
     "output_type": "stream",
     "text": [
      "c:\\Users\\chris\\anaconda3\\Lib\\site-packages\\torch\\nn\\modules\\transformer.py:385: UserWarning: enable_nested_tensor is True, but self.use_nested_tensor is False because encoder_layer.self_attn.batch_first was not True(use batch_first for better inference performance)\n",
      "  warnings.warn(\n"
     ]
    },
    {
     "name": "stdout",
     "output_type": "stream",
     "text": [
      "Transformer Val MSE=0.0034, MAE=0.0409, R²=0.9261\n",
      "  MSE: 0.0034, MAE: 0.0409, R²: 0.9261\n",
      "\n",
      "=== Fold 4 ===\n",
      "[nasa] Normalizing 2014 features\n",
      "[oxford] Normalizing 2014 features\n",
      "[isu] Normalizing 2014 features\n"
     ]
    },
    {
     "name": "stderr",
     "output_type": "stream",
     "text": [
      "c:\\Users\\chris\\anaconda3\\Lib\\site-packages\\torch\\nn\\modules\\transformer.py:385: UserWarning: enable_nested_tensor is True, but self.use_nested_tensor is False because encoder_layer.self_attn.batch_first was not True(use batch_first for better inference performance)\n",
      "  warnings.warn(\n"
     ]
    },
    {
     "name": "stdout",
     "output_type": "stream",
     "text": [
      "Transformer Val MSE=0.0014, MAE=0.0266, R²=0.9618\n",
      "  MSE: 0.0014, MAE: 0.0266, R²: 0.9618\n",
      "\n",
      "=== Fold 5 ===\n",
      "[nasa] Normalizing 2014 features\n",
      "[oxford] Normalizing 2014 features\n",
      "[isu] Normalizing 2014 features\n"
     ]
    },
    {
     "name": "stderr",
     "output_type": "stream",
     "text": [
      "c:\\Users\\chris\\anaconda3\\Lib\\site-packages\\torch\\nn\\modules\\transformer.py:385: UserWarning: enable_nested_tensor is True, but self.use_nested_tensor is False because encoder_layer.self_attn.batch_first was not True(use batch_first for better inference performance)\n",
      "  warnings.warn(\n",
      "[I 2025-04-17 13:46:44,727] Trial 0 finished with value: 0.00901204461697489 and parameters: {'d_model': 64, 'nhead': 2, 'num_layers': 1, 'lr': 0.005399484409787433, 'batch_size': 16}. Best is trial 0 with value: 0.00901204461697489.\n"
     ]
    },
    {
     "name": "stdout",
     "output_type": "stream",
     "text": [
      "Transformer Val MSE=0.0042, MAE=0.0403, R²=0.9421\n",
      "  MSE: 0.0042, MAE: 0.0403, R²: 0.9421\n",
      "\n",
      "=== Average CV Performance ===\n",
      "Avg MSE: 0.0090\n",
      "Avg MAE: 0.0565\n",
      "Avg R² : 0.8188\n",
      "\n",
      "=== Fold 1 ===\n",
      "[nasa] Normalizing 2014 features\n",
      "[oxford] Normalizing 2014 features\n",
      "[isu] Normalizing 2014 features\n"
     ]
    },
    {
     "name": "stderr",
     "output_type": "stream",
     "text": [
      "c:\\Users\\chris\\anaconda3\\Lib\\site-packages\\torch\\nn\\modules\\transformer.py:385: UserWarning: enable_nested_tensor is True, but self.use_nested_tensor is False because encoder_layer.self_attn.batch_first was not True(use batch_first for better inference performance)\n",
      "  warnings.warn(\n"
     ]
    },
    {
     "name": "stdout",
     "output_type": "stream",
     "text": [
      "Transformer Val MSE=0.0050, MAE=0.0440, R²=0.9124\n",
      "  MSE: 0.0050, MAE: 0.0440, R²: 0.9124\n",
      "\n",
      "=== Fold 2 ===\n",
      "[nasa] Normalizing 2014 features\n",
      "[oxford] Normalizing 2014 features\n",
      "[isu] Normalizing 2014 features\n"
     ]
    },
    {
     "name": "stderr",
     "output_type": "stream",
     "text": [
      "c:\\Users\\chris\\anaconda3\\Lib\\site-packages\\torch\\nn\\modules\\transformer.py:385: UserWarning: enable_nested_tensor is True, but self.use_nested_tensor is False because encoder_layer.self_attn.batch_first was not True(use batch_first for better inference performance)\n",
      "  warnings.warn(\n"
     ]
    },
    {
     "name": "stdout",
     "output_type": "stream",
     "text": [
      "Transformer Val MSE=0.0028, MAE=0.0333, R²=0.9194\n",
      "  MSE: 0.0028, MAE: 0.0333, R²: 0.9194\n",
      "\n",
      "=== Fold 3 ===\n",
      "[nasa] Normalizing 2014 features\n",
      "[oxford] Normalizing 2014 features\n",
      "[isu] Normalizing 2014 features\n"
     ]
    },
    {
     "name": "stderr",
     "output_type": "stream",
     "text": [
      "c:\\Users\\chris\\anaconda3\\Lib\\site-packages\\torch\\nn\\modules\\transformer.py:385: UserWarning: enable_nested_tensor is True, but self.use_nested_tensor is False because encoder_layer.self_attn.batch_first was not True(use batch_first for better inference performance)\n",
      "  warnings.warn(\n"
     ]
    },
    {
     "name": "stdout",
     "output_type": "stream",
     "text": [
      "Transformer Val MSE=0.0018, MAE=0.0259, R²=0.9608\n",
      "  MSE: 0.0018, MAE: 0.0259, R²: 0.9608\n",
      "\n",
      "=== Fold 4 ===\n",
      "[nasa] Normalizing 2014 features\n",
      "[oxford] Normalizing 2014 features\n",
      "[isu] Normalizing 2014 features\n"
     ]
    },
    {
     "name": "stderr",
     "output_type": "stream",
     "text": [
      "c:\\Users\\chris\\anaconda3\\Lib\\site-packages\\torch\\nn\\modules\\transformer.py:385: UserWarning: enable_nested_tensor is True, but self.use_nested_tensor is False because encoder_layer.self_attn.batch_first was not True(use batch_first for better inference performance)\n",
      "  warnings.warn(\n"
     ]
    },
    {
     "name": "stdout",
     "output_type": "stream",
     "text": [
      "Transformer Val MSE=0.0006, MAE=0.0152, R²=0.9830\n",
      "  MSE: 0.0006, MAE: 0.0152, R²: 0.9830\n",
      "\n",
      "=== Fold 5 ===\n",
      "[nasa] Normalizing 2014 features\n",
      "[oxford] Normalizing 2014 features\n",
      "[isu] Normalizing 2014 features\n"
     ]
    },
    {
     "name": "stderr",
     "output_type": "stream",
     "text": [
      "c:\\Users\\chris\\anaconda3\\Lib\\site-packages\\torch\\nn\\modules\\transformer.py:385: UserWarning: enable_nested_tensor is True, but self.use_nested_tensor is False because encoder_layer.self_attn.batch_first was not True(use batch_first for better inference performance)\n",
      "  warnings.warn(\n",
      "[I 2025-04-17 14:10:41,407] Trial 1 finished with value: 0.0023292360128834844 and parameters: {'d_model': 32, 'nhead': 8, 'num_layers': 2, 'lr': 0.0007309539835912913, 'batch_size': 16}. Best is trial 1 with value: 0.0023292360128834844.\n"
     ]
    },
    {
     "name": "stdout",
     "output_type": "stream",
     "text": [
      "Transformer Val MSE=0.0014, MAE=0.0193, R²=0.9800\n",
      "  MSE: 0.0014, MAE: 0.0193, R²: 0.9800\n",
      "\n",
      "=== Average CV Performance ===\n",
      "Avg MSE: 0.0023\n",
      "Avg MAE: 0.0276\n",
      "Avg R² : 0.9511\n",
      "\n",
      "=== Fold 1 ===\n",
      "[nasa] Normalizing 2014 features\n",
      "[oxford] Normalizing 2014 features\n",
      "[isu] Normalizing 2014 features\n"
     ]
    },
    {
     "name": "stderr",
     "output_type": "stream",
     "text": [
      "c:\\Users\\chris\\anaconda3\\Lib\\site-packages\\torch\\nn\\modules\\transformer.py:385: UserWarning: enable_nested_tensor is True, but self.use_nested_tensor is False because encoder_layer.self_attn.batch_first was not True(use batch_first for better inference performance)\n",
      "  warnings.warn(\n"
     ]
    },
    {
     "name": "stdout",
     "output_type": "stream",
     "text": [
      "Transformer Val MSE=0.0015, MAE=0.0212, R²=0.9736\n",
      "  MSE: 0.0015, MAE: 0.0212, R²: 0.9736\n",
      "\n",
      "=== Fold 2 ===\n",
      "[nasa] Normalizing 2014 features\n",
      "[oxford] Normalizing 2014 features\n",
      "[isu] Normalizing 2014 features\n"
     ]
    },
    {
     "name": "stderr",
     "output_type": "stream",
     "text": [
      "c:\\Users\\chris\\anaconda3\\Lib\\site-packages\\torch\\nn\\modules\\transformer.py:385: UserWarning: enable_nested_tensor is True, but self.use_nested_tensor is False because encoder_layer.self_attn.batch_first was not True(use batch_first for better inference performance)\n",
      "  warnings.warn(\n"
     ]
    },
    {
     "name": "stdout",
     "output_type": "stream",
     "text": [
      "Transformer Val MSE=0.0042, MAE=0.0443, R²=0.8780\n",
      "  MSE: 0.0042, MAE: 0.0443, R²: 0.8780\n",
      "\n",
      "=== Fold 3 ===\n",
      "[nasa] Normalizing 2014 features\n",
      "[oxford] Normalizing 2014 features\n",
      "[isu] Normalizing 2014 features\n"
     ]
    },
    {
     "name": "stderr",
     "output_type": "stream",
     "text": [
      "c:\\Users\\chris\\anaconda3\\Lib\\site-packages\\torch\\nn\\modules\\transformer.py:385: UserWarning: enable_nested_tensor is True, but self.use_nested_tensor is False because encoder_layer.self_attn.batch_first was not True(use batch_first for better inference performance)\n",
      "  warnings.warn(\n"
     ]
    },
    {
     "name": "stdout",
     "output_type": "stream",
     "text": [
      "Transformer Val MSE=0.0014, MAE=0.0273, R²=0.9696\n",
      "  MSE: 0.0014, MAE: 0.0273, R²: 0.9696\n",
      "\n",
      "=== Fold 4 ===\n",
      "[nasa] Normalizing 2014 features\n",
      "[oxford] Normalizing 2014 features\n",
      "[isu] Normalizing 2014 features\n"
     ]
    },
    {
     "name": "stderr",
     "output_type": "stream",
     "text": [
      "c:\\Users\\chris\\anaconda3\\Lib\\site-packages\\torch\\nn\\modules\\transformer.py:385: UserWarning: enable_nested_tensor is True, but self.use_nested_tensor is False because encoder_layer.self_attn.batch_first was not True(use batch_first for better inference performance)\n",
      "  warnings.warn(\n"
     ]
    },
    {
     "name": "stdout",
     "output_type": "stream",
     "text": [
      "Transformer Val MSE=0.0006, MAE=0.0170, R²=0.9844\n",
      "  MSE: 0.0006, MAE: 0.0170, R²: 0.9844\n",
      "\n",
      "=== Fold 5 ===\n",
      "[nasa] Normalizing 2014 features\n",
      "[oxford] Normalizing 2014 features\n",
      "[isu] Normalizing 2014 features\n"
     ]
    },
    {
     "name": "stderr",
     "output_type": "stream",
     "text": [
      "c:\\Users\\chris\\anaconda3\\Lib\\site-packages\\torch\\nn\\modules\\transformer.py:385: UserWarning: enable_nested_tensor is True, but self.use_nested_tensor is False because encoder_layer.self_attn.batch_first was not True(use batch_first for better inference performance)\n",
      "  warnings.warn(\n",
      "[I 2025-04-17 14:34:53,721] Trial 2 finished with value: 0.0018441181280650198 and parameters: {'d_model': 128, 'nhead': 2, 'num_layers': 2, 'lr': 0.0001238513729886094, 'batch_size': 8}. Best is trial 2 with value: 0.0018441181280650198.\n"
     ]
    },
    {
     "name": "stdout",
     "output_type": "stream",
     "text": [
      "Transformer Val MSE=0.0016, MAE=0.0224, R²=0.9783\n",
      "  MSE: 0.0016, MAE: 0.0224, R²: 0.9783\n",
      "\n",
      "=== Average CV Performance ===\n",
      "Avg MSE: 0.0018\n",
      "Avg MAE: 0.0264\n",
      "Avg R² : 0.9568\n",
      "\n",
      "=== Fold 1 ===\n",
      "[nasa] Normalizing 2014 features\n",
      "[oxford] Normalizing 2014 features\n",
      "[isu] Normalizing 2014 features\n"
     ]
    },
    {
     "name": "stderr",
     "output_type": "stream",
     "text": [
      "c:\\Users\\chris\\anaconda3\\Lib\\site-packages\\torch\\nn\\modules\\transformer.py:385: UserWarning: enable_nested_tensor is True, but self.use_nested_tensor is False because encoder_layer.self_attn.batch_first was not True(use batch_first for better inference performance)\n",
      "  warnings.warn(\n"
     ]
    },
    {
     "name": "stdout",
     "output_type": "stream",
     "text": [
      "Transformer Val MSE=0.0021, MAE=0.0302, R²=0.9634\n",
      "  MSE: 0.0021, MAE: 0.0302, R²: 0.9634\n",
      "\n",
      "=== Fold 2 ===\n",
      "[nasa] Normalizing 2014 features\n",
      "[oxford] Normalizing 2014 features\n",
      "[isu] Normalizing 2014 features\n"
     ]
    },
    {
     "name": "stderr",
     "output_type": "stream",
     "text": [
      "c:\\Users\\chris\\anaconda3\\Lib\\site-packages\\torch\\nn\\modules\\transformer.py:385: UserWarning: enable_nested_tensor is True, but self.use_nested_tensor is False because encoder_layer.self_attn.batch_first was not True(use batch_first for better inference performance)\n",
      "  warnings.warn(\n"
     ]
    },
    {
     "name": "stdout",
     "output_type": "stream",
     "text": [
      "Transformer Val MSE=0.0129, MAE=0.0759, R²=0.6241\n",
      "  MSE: 0.0129, MAE: 0.0759, R²: 0.6241\n",
      "\n",
      "=== Fold 3 ===\n",
      "[nasa] Normalizing 2014 features\n",
      "[oxford] Normalizing 2014 features\n",
      "[isu] Normalizing 2014 features\n"
     ]
    },
    {
     "name": "stderr",
     "output_type": "stream",
     "text": [
      "c:\\Users\\chris\\anaconda3\\Lib\\site-packages\\torch\\nn\\modules\\transformer.py:385: UserWarning: enable_nested_tensor is True, but self.use_nested_tensor is False because encoder_layer.self_attn.batch_first was not True(use batch_first for better inference performance)\n",
      "  warnings.warn(\n"
     ]
    },
    {
     "name": "stdout",
     "output_type": "stream",
     "text": [
      "Transformer Val MSE=0.0018, MAE=0.0264, R²=0.9610\n",
      "  MSE: 0.0018, MAE: 0.0264, R²: 0.9610\n",
      "\n",
      "=== Fold 4 ===\n",
      "[nasa] Normalizing 2014 features\n",
      "[oxford] Normalizing 2014 features\n",
      "[isu] Normalizing 2014 features\n"
     ]
    },
    {
     "name": "stderr",
     "output_type": "stream",
     "text": [
      "c:\\Users\\chris\\anaconda3\\Lib\\site-packages\\torch\\nn\\modules\\transformer.py:385: UserWarning: enable_nested_tensor is True, but self.use_nested_tensor is False because encoder_layer.self_attn.batch_first was not True(use batch_first for better inference performance)\n",
      "  warnings.warn(\n"
     ]
    },
    {
     "name": "stdout",
     "output_type": "stream",
     "text": [
      "Transformer Val MSE=0.0009, MAE=0.0195, R²=0.9749\n",
      "  MSE: 0.0009, MAE: 0.0195, R²: 0.9749\n",
      "\n",
      "=== Fold 5 ===\n",
      "[nasa] Normalizing 2014 features\n",
      "[oxford] Normalizing 2014 features\n",
      "[isu] Normalizing 2014 features\n"
     ]
    },
    {
     "name": "stderr",
     "output_type": "stream",
     "text": [
      "c:\\Users\\chris\\anaconda3\\Lib\\site-packages\\torch\\nn\\modules\\transformer.py:385: UserWarning: enable_nested_tensor is True, but self.use_nested_tensor is False because encoder_layer.self_attn.batch_first was not True(use batch_first for better inference performance)\n",
      "  warnings.warn(\n",
      "[I 2025-04-17 14:42:01,769] Trial 3 finished with value: 0.004008031904231757 and parameters: {'d_model': 64, 'nhead': 8, 'num_layers': 2, 'lr': 0.00017541893487450815, 'batch_size': 32}. Best is trial 2 with value: 0.0018441181280650198.\n"
     ]
    },
    {
     "name": "stdout",
     "output_type": "stream",
     "text": [
      "Transformer Val MSE=0.0024, MAE=0.0310, R²=0.9672\n",
      "  MSE: 0.0024, MAE: 0.0310, R²: 0.9672\n",
      "\n",
      "=== Average CV Performance ===\n",
      "Avg MSE: 0.0040\n",
      "Avg MAE: 0.0366\n",
      "Avg R² : 0.8981\n",
      "\n",
      "=== Fold 1 ===\n",
      "[nasa] Normalizing 2014 features\n",
      "[oxford] Normalizing 2014 features\n",
      "[isu] Normalizing 2014 features\n"
     ]
    },
    {
     "name": "stderr",
     "output_type": "stream",
     "text": [
      "c:\\Users\\chris\\anaconda3\\Lib\\site-packages\\torch\\nn\\modules\\transformer.py:385: UserWarning: enable_nested_tensor is True, but self.use_nested_tensor is False because encoder_layer.self_attn.batch_first was not True(use batch_first for better inference performance)\n",
      "  warnings.warn(\n"
     ]
    },
    {
     "name": "stdout",
     "output_type": "stream",
     "text": [
      "Transformer Val MSE=0.0167, MAE=0.0785, R²=0.7085\n",
      "  MSE: 0.0167, MAE: 0.0785, R²: 0.7085\n",
      "\n",
      "=== Fold 2 ===\n",
      "[nasa] Normalizing 2014 features\n",
      "[oxford] Normalizing 2014 features\n",
      "[isu] Normalizing 2014 features\n"
     ]
    },
    {
     "name": "stderr",
     "output_type": "stream",
     "text": [
      "c:\\Users\\chris\\anaconda3\\Lib\\site-packages\\torch\\nn\\modules\\transformer.py:385: UserWarning: enable_nested_tensor is True, but self.use_nested_tensor is False because encoder_layer.self_attn.batch_first was not True(use batch_first for better inference performance)\n",
      "  warnings.warn(\n"
     ]
    },
    {
     "name": "stdout",
     "output_type": "stream",
     "text": [
      "Transformer Val MSE=0.0219, MAE=0.1214, R²=0.3594\n",
      "  MSE: 0.0219, MAE: 0.1214, R²: 0.3594\n",
      "\n",
      "=== Fold 3 ===\n",
      "[nasa] Normalizing 2014 features\n",
      "[oxford] Normalizing 2014 features\n",
      "[isu] Normalizing 2014 features\n"
     ]
    },
    {
     "name": "stderr",
     "output_type": "stream",
     "text": [
      "c:\\Users\\chris\\anaconda3\\Lib\\site-packages\\torch\\nn\\modules\\transformer.py:385: UserWarning: enable_nested_tensor is True, but self.use_nested_tensor is False because encoder_layer.self_attn.batch_first was not True(use batch_first for better inference performance)\n",
      "  warnings.warn(\n"
     ]
    },
    {
     "name": "stdout",
     "output_type": "stream",
     "text": [
      "Transformer Val MSE=0.0459, MAE=0.1654, R²=-0.0007\n",
      "  MSE: 0.0459, MAE: 0.1654, R²: -0.0007\n",
      "\n",
      "=== Fold 4 ===\n",
      "[nasa] Normalizing 2014 features\n",
      "[oxford] Normalizing 2014 features\n",
      "[isu] Normalizing 2014 features\n"
     ]
    },
    {
     "name": "stderr",
     "output_type": "stream",
     "text": [
      "c:\\Users\\chris\\anaconda3\\Lib\\site-packages\\torch\\nn\\modules\\transformer.py:385: UserWarning: enable_nested_tensor is True, but self.use_nested_tensor is False because encoder_layer.self_attn.batch_first was not True(use batch_first for better inference performance)\n",
      "  warnings.warn(\n"
     ]
    },
    {
     "name": "stdout",
     "output_type": "stream",
     "text": [
      "Transformer Val MSE=0.0208, MAE=0.1147, R²=0.4451\n",
      "  MSE: 0.0208, MAE: 0.1147, R²: 0.4451\n",
      "\n",
      "=== Fold 5 ===\n",
      "[nasa] Normalizing 2014 features\n",
      "[oxford] Normalizing 2014 features\n",
      "[isu] Normalizing 2014 features\n"
     ]
    },
    {
     "name": "stderr",
     "output_type": "stream",
     "text": [
      "c:\\Users\\chris\\anaconda3\\Lib\\site-packages\\torch\\nn\\modules\\transformer.py:385: UserWarning: enable_nested_tensor is True, but self.use_nested_tensor is False because encoder_layer.self_attn.batch_first was not True(use batch_first for better inference performance)\n",
      "  warnings.warn(\n",
      "[I 2025-04-17 16:13:30,480] Trial 4 finished with value: 0.02471935823559761 and parameters: {'d_model': 64, 'nhead': 4, 'num_layers': 3, 'lr': 0.0035503048581283078, 'batch_size': 8}. Best is trial 2 with value: 0.0018441181280650198.\n"
     ]
    },
    {
     "name": "stdout",
     "output_type": "stream",
     "text": [
      "Transformer Val MSE=0.0183, MAE=0.0874, R²=0.7450\n",
      "  MSE: 0.0183, MAE: 0.0874, R²: 0.7450\n",
      "\n",
      "=== Average CV Performance ===\n",
      "Avg MSE: 0.0247\n",
      "Avg MAE: 0.1135\n",
      "Avg R² : 0.4515\n",
      "\n",
      "=== Fold 1 ===\n",
      "[nasa] Normalizing 2014 features\n",
      "[oxford] Normalizing 2014 features\n",
      "[isu] Normalizing 2014 features\n"
     ]
    },
    {
     "name": "stderr",
     "output_type": "stream",
     "text": [
      "c:\\Users\\chris\\anaconda3\\Lib\\site-packages\\torch\\nn\\modules\\transformer.py:385: UserWarning: enable_nested_tensor is True, but self.use_nested_tensor is False because encoder_layer.self_attn.batch_first was not True(use batch_first for better inference performance)\n",
      "  warnings.warn(\n"
     ]
    },
    {
     "name": "stdout",
     "output_type": "stream",
     "text": [
      "Transformer Val MSE=0.0039, MAE=0.0443, R²=0.9323\n",
      "  MSE: 0.0039, MAE: 0.0443, R²: 0.9323\n",
      "\n",
      "=== Fold 2 ===\n",
      "[nasa] Normalizing 2014 features\n",
      "[oxford] Normalizing 2014 features\n",
      "[isu] Normalizing 2014 features\n"
     ]
    },
    {
     "name": "stderr",
     "output_type": "stream",
     "text": [
      "c:\\Users\\chris\\anaconda3\\Lib\\site-packages\\torch\\nn\\modules\\transformer.py:385: UserWarning: enable_nested_tensor is True, but self.use_nested_tensor is False because encoder_layer.self_attn.batch_first was not True(use batch_first for better inference performance)\n",
      "  warnings.warn(\n"
     ]
    },
    {
     "name": "stdout",
     "output_type": "stream",
     "text": [
      "Transformer Val MSE=0.0046, MAE=0.0452, R²=0.8655\n",
      "  MSE: 0.0046, MAE: 0.0452, R²: 0.8655\n",
      "\n",
      "=== Fold 3 ===\n",
      "[nasa] Normalizing 2014 features\n",
      "[oxford] Normalizing 2014 features\n",
      "[isu] Normalizing 2014 features\n"
     ]
    },
    {
     "name": "stderr",
     "output_type": "stream",
     "text": [
      "c:\\Users\\chris\\anaconda3\\Lib\\site-packages\\torch\\nn\\modules\\transformer.py:385: UserWarning: enable_nested_tensor is True, but self.use_nested_tensor is False because encoder_layer.self_attn.batch_first was not True(use batch_first for better inference performance)\n",
      "  warnings.warn(\n"
     ]
    },
    {
     "name": "stdout",
     "output_type": "stream",
     "text": [
      "Transformer Val MSE=0.0047, MAE=0.0522, R²=0.8981\n",
      "  MSE: 0.0047, MAE: 0.0522, R²: 0.8981\n",
      "\n",
      "=== Fold 4 ===\n",
      "[nasa] Normalizing 2014 features\n",
      "[oxford] Normalizing 2014 features\n",
      "[isu] Normalizing 2014 features\n"
     ]
    },
    {
     "name": "stderr",
     "output_type": "stream",
     "text": [
      "c:\\Users\\chris\\anaconda3\\Lib\\site-packages\\torch\\nn\\modules\\transformer.py:385: UserWarning: enable_nested_tensor is True, but self.use_nested_tensor is False because encoder_layer.self_attn.batch_first was not True(use batch_first for better inference performance)\n",
      "  warnings.warn(\n"
     ]
    },
    {
     "name": "stdout",
     "output_type": "stream",
     "text": [
      "Transformer Val MSE=0.0018, MAE=0.0278, R²=0.9529\n",
      "  MSE: 0.0018, MAE: 0.0278, R²: 0.9529\n",
      "\n",
      "=== Fold 5 ===\n",
      "[nasa] Normalizing 2014 features\n",
      "[oxford] Normalizing 2014 features\n",
      "[isu] Normalizing 2014 features\n"
     ]
    },
    {
     "name": "stderr",
     "output_type": "stream",
     "text": [
      "c:\\Users\\chris\\anaconda3\\Lib\\site-packages\\torch\\nn\\modules\\transformer.py:385: UserWarning: enable_nested_tensor is True, but self.use_nested_tensor is False because encoder_layer.self_attn.batch_first was not True(use batch_first for better inference performance)\n",
      "  warnings.warn(\n",
      "[I 2025-04-17 16:18:09,816] Trial 5 finished with value: 0.0034784421324729918 and parameters: {'d_model': 32, 'nhead': 8, 'num_layers': 1, 'lr': 0.004544383960336014, 'batch_size': 32}. Best is trial 2 with value: 0.0018441181280650198.\n"
     ]
    },
    {
     "name": "stdout",
     "output_type": "stream",
     "text": [
      "Transformer Val MSE=0.0025, MAE=0.0312, R²=0.9655\n",
      "  MSE: 0.0025, MAE: 0.0312, R²: 0.9655\n",
      "\n",
      "=== Average CV Performance ===\n",
      "Avg MSE: 0.0035\n",
      "Avg MAE: 0.0401\n",
      "Avg R² : 0.9229\n",
      "\n",
      "=== Fold 1 ===\n",
      "[nasa] Normalizing 2014 features\n",
      "[oxford] Normalizing 2014 features\n",
      "[isu] Normalizing 2014 features\n"
     ]
    },
    {
     "name": "stderr",
     "output_type": "stream",
     "text": [
      "c:\\Users\\chris\\anaconda3\\Lib\\site-packages\\torch\\nn\\modules\\transformer.py:385: UserWarning: enable_nested_tensor is True, but self.use_nested_tensor is False because encoder_layer.self_attn.batch_first was not True(use batch_first for better inference performance)\n",
      "  warnings.warn(\n"
     ]
    },
    {
     "name": "stdout",
     "output_type": "stream",
     "text": [
      "Transformer Val MSE=0.0106, MAE=0.0674, R²=0.8154\n",
      "  MSE: 0.0106, MAE: 0.0674, R²: 0.8154\n",
      "\n",
      "=== Fold 2 ===\n",
      "[nasa] Normalizing 2014 features\n",
      "[oxford] Normalizing 2014 features\n",
      "[isu] Normalizing 2014 features\n"
     ]
    },
    {
     "name": "stderr",
     "output_type": "stream",
     "text": [
      "c:\\Users\\chris\\anaconda3\\Lib\\site-packages\\torch\\nn\\modules\\transformer.py:385: UserWarning: enable_nested_tensor is True, but self.use_nested_tensor is False because encoder_layer.self_attn.batch_first was not True(use batch_first for better inference performance)\n",
      "  warnings.warn(\n"
     ]
    },
    {
     "name": "stdout",
     "output_type": "stream",
     "text": [
      "Transformer Val MSE=0.0073, MAE=0.0587, R²=0.7856\n",
      "  MSE: 0.0073, MAE: 0.0587, R²: 0.7856\n",
      "\n",
      "=== Fold 3 ===\n",
      "[nasa] Normalizing 2014 features\n",
      "[oxford] Normalizing 2014 features\n",
      "[isu] Normalizing 2014 features\n"
     ]
    },
    {
     "name": "stderr",
     "output_type": "stream",
     "text": [
      "c:\\Users\\chris\\anaconda3\\Lib\\site-packages\\torch\\nn\\modules\\transformer.py:385: UserWarning: enable_nested_tensor is True, but self.use_nested_tensor is False because encoder_layer.self_attn.batch_first was not True(use batch_first for better inference performance)\n",
      "  warnings.warn(\n"
     ]
    },
    {
     "name": "stdout",
     "output_type": "stream",
     "text": [
      "Transformer Val MSE=0.0061, MAE=0.0589, R²=0.8679\n",
      "  MSE: 0.0061, MAE: 0.0589, R²: 0.8679\n",
      "\n",
      "=== Fold 4 ===\n",
      "[nasa] Normalizing 2014 features\n",
      "[oxford] Normalizing 2014 features\n",
      "[isu] Normalizing 2014 features\n"
     ]
    },
    {
     "name": "stderr",
     "output_type": "stream",
     "text": [
      "c:\\Users\\chris\\anaconda3\\Lib\\site-packages\\torch\\nn\\modules\\transformer.py:385: UserWarning: enable_nested_tensor is True, but self.use_nested_tensor is False because encoder_layer.self_attn.batch_first was not True(use batch_first for better inference performance)\n",
      "  warnings.warn(\n"
     ]
    },
    {
     "name": "stdout",
     "output_type": "stream",
     "text": [
      "Transformer Val MSE=0.0080, MAE=0.0738, R²=0.7864\n",
      "  MSE: 0.0080, MAE: 0.0738, R²: 0.7864\n",
      "\n",
      "=== Fold 5 ===\n",
      "[nasa] Normalizing 2014 features\n",
      "[oxford] Normalizing 2014 features\n",
      "[isu] Normalizing 2014 features\n"
     ]
    },
    {
     "name": "stderr",
     "output_type": "stream",
     "text": [
      "c:\\Users\\chris\\anaconda3\\Lib\\site-packages\\torch\\nn\\modules\\transformer.py:385: UserWarning: enable_nested_tensor is True, but self.use_nested_tensor is False because encoder_layer.self_attn.batch_first was not True(use batch_first for better inference performance)\n",
      "  warnings.warn(\n",
      "[I 2025-04-17 16:22:27,216] Trial 6 finished with value: 0.006953415600582958 and parameters: {'d_model': 64, 'nhead': 2, 'num_layers': 1, 'lr': 0.004274869455295219, 'batch_size': 32}. Best is trial 2 with value: 0.0018441181280650198.\n"
     ]
    },
    {
     "name": "stdout",
     "output_type": "stream",
     "text": [
      "Transformer Val MSE=0.0028, MAE=0.0332, R²=0.9609\n",
      "  MSE: 0.0028, MAE: 0.0332, R²: 0.9609\n",
      "\n",
      "=== Average CV Performance ===\n",
      "Avg MSE: 0.0070\n",
      "Avg MAE: 0.0584\n",
      "Avg R² : 0.8432\n",
      "\n",
      "=== Fold 1 ===\n",
      "[nasa] Normalizing 2014 features\n",
      "[oxford] Normalizing 2014 features\n",
      "[isu] Normalizing 2014 features\n"
     ]
    },
    {
     "name": "stderr",
     "output_type": "stream",
     "text": [
      "c:\\Users\\chris\\anaconda3\\Lib\\site-packages\\torch\\nn\\modules\\transformer.py:385: UserWarning: enable_nested_tensor is True, but self.use_nested_tensor is False because encoder_layer.self_attn.batch_first was not True(use batch_first for better inference performance)\n",
      "  warnings.warn(\n"
     ]
    },
    {
     "name": "stdout",
     "output_type": "stream",
     "text": [
      "Transformer Val MSE=0.0041, MAE=0.0413, R²=0.9284\n",
      "  MSE: 0.0041, MAE: 0.0413, R²: 0.9284\n",
      "\n",
      "=== Fold 2 ===\n",
      "[nasa] Normalizing 2014 features\n",
      "[oxford] Normalizing 2014 features\n",
      "[isu] Normalizing 2014 features\n"
     ]
    },
    {
     "name": "stderr",
     "output_type": "stream",
     "text": [
      "c:\\Users\\chris\\anaconda3\\Lib\\site-packages\\torch\\nn\\modules\\transformer.py:385: UserWarning: enable_nested_tensor is True, but self.use_nested_tensor is False because encoder_layer.self_attn.batch_first was not True(use batch_first for better inference performance)\n",
      "  warnings.warn(\n"
     ]
    },
    {
     "name": "stdout",
     "output_type": "stream",
     "text": [
      "Transformer Val MSE=0.0033, MAE=0.0385, R²=0.9041\n",
      "  MSE: 0.0033, MAE: 0.0385, R²: 0.9041\n",
      "\n",
      "=== Fold 3 ===\n",
      "[nasa] Normalizing 2014 features\n",
      "[oxford] Normalizing 2014 features\n",
      "[isu] Normalizing 2014 features\n"
     ]
    },
    {
     "name": "stderr",
     "output_type": "stream",
     "text": [
      "c:\\Users\\chris\\anaconda3\\Lib\\site-packages\\torch\\nn\\modules\\transformer.py:385: UserWarning: enable_nested_tensor is True, but self.use_nested_tensor is False because encoder_layer.self_attn.batch_first was not True(use batch_first for better inference performance)\n",
      "  warnings.warn(\n"
     ]
    },
    {
     "name": "stdout",
     "output_type": "stream",
     "text": [
      "Transformer Val MSE=0.0030, MAE=0.0436, R²=0.9336\n",
      "  MSE: 0.0030, MAE: 0.0436, R²: 0.9336\n",
      "\n",
      "=== Fold 4 ===\n",
      "[nasa] Normalizing 2014 features\n",
      "[oxford] Normalizing 2014 features\n",
      "[isu] Normalizing 2014 features\n"
     ]
    },
    {
     "name": "stderr",
     "output_type": "stream",
     "text": [
      "c:\\Users\\chris\\anaconda3\\Lib\\site-packages\\torch\\nn\\modules\\transformer.py:385: UserWarning: enable_nested_tensor is True, but self.use_nested_tensor is False because encoder_layer.self_attn.batch_first was not True(use batch_first for better inference performance)\n",
      "  warnings.warn(\n"
     ]
    },
    {
     "name": "stdout",
     "output_type": "stream",
     "text": [
      "Transformer Val MSE=0.0011, MAE=0.0267, R²=0.9698\n",
      "  MSE: 0.0011, MAE: 0.0267, R²: 0.9698\n",
      "\n",
      "=== Fold 5 ===\n",
      "[nasa] Normalizing 2014 features\n",
      "[oxford] Normalizing 2014 features\n",
      "[isu] Normalizing 2014 features\n"
     ]
    },
    {
     "name": "stderr",
     "output_type": "stream",
     "text": [
      "c:\\Users\\chris\\anaconda3\\Lib\\site-packages\\torch\\nn\\modules\\transformer.py:385: UserWarning: enable_nested_tensor is True, but self.use_nested_tensor is False because encoder_layer.self_attn.batch_first was not True(use batch_first for better inference performance)\n",
      "  warnings.warn(\n",
      "[I 2025-04-17 16:29:35,088] Trial 7 finished with value: 0.002573969541117549 and parameters: {'d_model': 64, 'nhead': 2, 'num_layers': 1, 'lr': 0.0004187594718900631, 'batch_size': 16}. Best is trial 2 with value: 0.0018441181280650198.\n"
     ]
    },
    {
     "name": "stdout",
     "output_type": "stream",
     "text": [
      "Transformer Val MSE=0.0013, MAE=0.0166, R²=0.9816\n",
      "  MSE: 0.0013, MAE: 0.0166, R²: 0.9816\n",
      "\n",
      "=== Average CV Performance ===\n",
      "Avg MSE: 0.0026\n",
      "Avg MAE: 0.0333\n",
      "Avg R² : 0.9435\n",
      "\n",
      "=== Fold 1 ===\n",
      "[nasa] Normalizing 2014 features\n",
      "[oxford] Normalizing 2014 features\n",
      "[isu] Normalizing 2014 features\n"
     ]
    },
    {
     "name": "stderr",
     "output_type": "stream",
     "text": [
      "c:\\Users\\chris\\anaconda3\\Lib\\site-packages\\torch\\nn\\modules\\transformer.py:385: UserWarning: enable_nested_tensor is True, but self.use_nested_tensor is False because encoder_layer.self_attn.batch_first was not True(use batch_first for better inference performance)\n",
      "  warnings.warn(\n"
     ]
    },
    {
     "name": "stdout",
     "output_type": "stream",
     "text": [
      "Transformer Val MSE=0.0016, MAE=0.0230, R²=0.9715\n",
      "  MSE: 0.0016, MAE: 0.0230, R²: 0.9715\n",
      "\n",
      "=== Fold 2 ===\n",
      "[nasa] Normalizing 2014 features\n",
      "[oxford] Normalizing 2014 features\n",
      "[isu] Normalizing 2014 features\n"
     ]
    },
    {
     "name": "stderr",
     "output_type": "stream",
     "text": [
      "c:\\Users\\chris\\anaconda3\\Lib\\site-packages\\torch\\nn\\modules\\transformer.py:385: UserWarning: enable_nested_tensor is True, but self.use_nested_tensor is False because encoder_layer.self_attn.batch_first was not True(use batch_first for better inference performance)\n",
      "  warnings.warn(\n"
     ]
    },
    {
     "name": "stdout",
     "output_type": "stream",
     "text": [
      "Transformer Val MSE=0.0026, MAE=0.0298, R²=0.9253\n",
      "  MSE: 0.0026, MAE: 0.0298, R²: 0.9253\n",
      "\n",
      "=== Fold 3 ===\n",
      "[nasa] Normalizing 2014 features\n",
      "[oxford] Normalizing 2014 features\n",
      "[isu] Normalizing 2014 features\n"
     ]
    },
    {
     "name": "stderr",
     "output_type": "stream",
     "text": [
      "c:\\Users\\chris\\anaconda3\\Lib\\site-packages\\torch\\nn\\modules\\transformer.py:385: UserWarning: enable_nested_tensor is True, but self.use_nested_tensor is False because encoder_layer.self_attn.batch_first was not True(use batch_first for better inference performance)\n",
      "  warnings.warn(\n"
     ]
    },
    {
     "name": "stdout",
     "output_type": "stream",
     "text": [
      "Transformer Val MSE=0.0011, MAE=0.0194, R²=0.9753\n",
      "  MSE: 0.0011, MAE: 0.0194, R²: 0.9753\n",
      "\n",
      "=== Fold 4 ===\n",
      "[nasa] Normalizing 2014 features\n",
      "[oxford] Normalizing 2014 features\n",
      "[isu] Normalizing 2014 features\n"
     ]
    },
    {
     "name": "stderr",
     "output_type": "stream",
     "text": [
      "c:\\Users\\chris\\anaconda3\\Lib\\site-packages\\torch\\nn\\modules\\transformer.py:385: UserWarning: enable_nested_tensor is True, but self.use_nested_tensor is False because encoder_layer.self_attn.batch_first was not True(use batch_first for better inference performance)\n",
      "  warnings.warn(\n"
     ]
    },
    {
     "name": "stdout",
     "output_type": "stream",
     "text": [
      "Transformer Val MSE=0.0025, MAE=0.0360, R²=0.9342\n",
      "  MSE: 0.0025, MAE: 0.0360, R²: 0.9342\n",
      "\n",
      "=== Fold 5 ===\n",
      "[nasa] Normalizing 2014 features\n",
      "[oxford] Normalizing 2014 features\n",
      "[isu] Normalizing 2014 features\n"
     ]
    },
    {
     "name": "stderr",
     "output_type": "stream",
     "text": [
      "c:\\Users\\chris\\anaconda3\\Lib\\site-packages\\torch\\nn\\modules\\transformer.py:385: UserWarning: enable_nested_tensor is True, but self.use_nested_tensor is False because encoder_layer.self_attn.batch_first was not True(use batch_first for better inference performance)\n",
      "  warnings.warn(\n",
      "[I 2025-04-17 16:46:05,409] Trial 8 finished with value: 0.0018433154793456197 and parameters: {'d_model': 32, 'nhead': 4, 'num_layers': 3, 'lr': 0.0009718319944817398, 'batch_size': 8}. Best is trial 8 with value: 0.0018433154793456197.\n"
     ]
    },
    {
     "name": "stdout",
     "output_type": "stream",
     "text": [
      "Transformer Val MSE=0.0014, MAE=0.0177, R²=0.9801\n",
      "  MSE: 0.0014, MAE: 0.0177, R²: 0.9801\n",
      "\n",
      "=== Average CV Performance ===\n",
      "Avg MSE: 0.0018\n",
      "Avg MAE: 0.0252\n",
      "Avg R² : 0.9573\n",
      "\n",
      "=== Fold 1 ===\n",
      "[nasa] Normalizing 2014 features\n",
      "[oxford] Normalizing 2014 features\n",
      "[isu] Normalizing 2014 features\n"
     ]
    },
    {
     "name": "stderr",
     "output_type": "stream",
     "text": [
      "c:\\Users\\chris\\anaconda3\\Lib\\site-packages\\torch\\nn\\modules\\transformer.py:385: UserWarning: enable_nested_tensor is True, but self.use_nested_tensor is False because encoder_layer.self_attn.batch_first was not True(use batch_first for better inference performance)\n",
      "  warnings.warn(\n"
     ]
    },
    {
     "name": "stdout",
     "output_type": "stream",
     "text": [
      "Transformer Val MSE=0.0046, MAE=0.0450, R²=0.9188\n",
      "  MSE: 0.0046, MAE: 0.0450, R²: 0.9188\n",
      "\n",
      "=== Fold 2 ===\n",
      "[nasa] Normalizing 2014 features\n",
      "[oxford] Normalizing 2014 features\n",
      "[isu] Normalizing 2014 features\n"
     ]
    },
    {
     "name": "stderr",
     "output_type": "stream",
     "text": [
      "c:\\Users\\chris\\anaconda3\\Lib\\site-packages\\torch\\nn\\modules\\transformer.py:385: UserWarning: enable_nested_tensor is True, but self.use_nested_tensor is False because encoder_layer.self_attn.batch_first was not True(use batch_first for better inference performance)\n",
      "  warnings.warn(\n"
     ]
    },
    {
     "name": "stdout",
     "output_type": "stream",
     "text": [
      "Transformer Val MSE=0.0095, MAE=0.0673, R²=0.7220\n",
      "  MSE: 0.0095, MAE: 0.0673, R²: 0.7220\n",
      "\n",
      "=== Fold 3 ===\n",
      "[nasa] Normalizing 2014 features\n",
      "[oxford] Normalizing 2014 features\n",
      "[isu] Normalizing 2014 features\n"
     ]
    },
    {
     "name": "stderr",
     "output_type": "stream",
     "text": [
      "c:\\Users\\chris\\anaconda3\\Lib\\site-packages\\torch\\nn\\modules\\transformer.py:385: UserWarning: enable_nested_tensor is True, but self.use_nested_tensor is False because encoder_layer.self_attn.batch_first was not True(use batch_first for better inference performance)\n",
      "  warnings.warn(\n"
     ]
    },
    {
     "name": "stdout",
     "output_type": "stream",
     "text": [
      "Transformer Val MSE=0.0050, MAE=0.0513, R²=0.8913\n",
      "  MSE: 0.0050, MAE: 0.0513, R²: 0.8913\n",
      "\n",
      "=== Fold 4 ===\n",
      "[nasa] Normalizing 2014 features\n",
      "[oxford] Normalizing 2014 features\n",
      "[isu] Normalizing 2014 features\n"
     ]
    },
    {
     "name": "stderr",
     "output_type": "stream",
     "text": [
      "c:\\Users\\chris\\anaconda3\\Lib\\site-packages\\torch\\nn\\modules\\transformer.py:385: UserWarning: enable_nested_tensor is True, but self.use_nested_tensor is False because encoder_layer.self_attn.batch_first was not True(use batch_first for better inference performance)\n",
      "  warnings.warn(\n"
     ]
    },
    {
     "name": "stdout",
     "output_type": "stream",
     "text": [
      "Transformer Val MSE=0.0098, MAE=0.0747, R²=0.7398\n",
      "  MSE: 0.0098, MAE: 0.0747, R²: 0.7398\n",
      "\n",
      "=== Fold 5 ===\n",
      "[nasa] Normalizing 2014 features\n",
      "[oxford] Normalizing 2014 features\n",
      "[isu] Normalizing 2014 features\n"
     ]
    },
    {
     "name": "stderr",
     "output_type": "stream",
     "text": [
      "c:\\Users\\chris\\anaconda3\\Lib\\site-packages\\torch\\nn\\modules\\transformer.py:385: UserWarning: enable_nested_tensor is True, but self.use_nested_tensor is False because encoder_layer.self_attn.batch_first was not True(use batch_first for better inference performance)\n",
      "  warnings.warn(\n",
      "[I 2025-04-17 16:55:12,680] Trial 9 finished with value: 0.006855203583836555 and parameters: {'d_model': 128, 'nhead': 8, 'num_layers': 1, 'lr': 0.000661859559718348, 'batch_size': 8}. Best is trial 8 with value: 0.0018433154793456197.\n"
     ]
    },
    {
     "name": "stdout",
     "output_type": "stream",
     "text": [
      "Transformer Val MSE=0.0054, MAE=0.0547, R²=0.9251\n",
      "  MSE: 0.0054, MAE: 0.0547, R²: 0.9251\n",
      "\n",
      "=== Average CV Performance ===\n",
      "Avg MSE: 0.0069\n",
      "Avg MAE: 0.0586\n",
      "Avg R² : 0.8394\n",
      "\n",
      "Best trial:\n",
      "  MSE: 0.0018\n",
      "  Params:\n",
      "    d_model: 32\n",
      "    nhead: 4\n",
      "    num_layers: 3\n",
      "    lr: 0.0009718319944817398\n",
      "    batch_size: 8\n"
     ]
    }
   ],
   "source": [
    "study = trainer.run_optuna_tuning()"
   ]
  },
  {
   "cell_type": "code",
   "execution_count": 15,
   "id": "f8976e6b",
   "metadata": {},
   "outputs": [
    {
     "name": "stdout",
     "output_type": "stream",
     "text": [
      "\n",
      "Training base model with default hyperparameters\n"
     ]
    },
    {
     "name": "stderr",
     "output_type": "stream",
     "text": [
      "c:\\Users\\chris\\anaconda3\\Lib\\site-packages\\torch\\nn\\modules\\transformer.py:385: UserWarning: enable_nested_tensor is True, but self.use_nested_tensor is False because encoder_layer.self_attn.batch_first was not True(use batch_first for better inference performance)\n",
      "  warnings.warn(\n"
     ]
    },
    {
     "name": "stdout",
     "output_type": "stream",
     "text": [
      "Transformer Val MSE=0.0029, MAE=0.0242, R²=0.9497\n"
     ]
    }
   ],
   "source": [
    "base_model = trainer.train_base_model()"
   ]
  },
  {
   "cell_type": "code",
   "execution_count": 16,
   "id": "8ca05f8b",
   "metadata": {},
   "outputs": [
    {
     "name": "stdout",
     "output_type": "stream",
     "text": [
      "\n",
      "Training with best Optuna params:\n",
      "  d_model: 32\n",
      "  nhead: 4\n",
      "  num_layers: 3\n",
      "  lr: 0.0009718319944817398\n",
      "  batch_size: 8\n"
     ]
    },
    {
     "name": "stderr",
     "output_type": "stream",
     "text": [
      "c:\\Users\\chris\\anaconda3\\Lib\\site-packages\\torch\\nn\\modules\\transformer.py:385: UserWarning: enable_nested_tensor is True, but self.use_nested_tensor is False because encoder_layer.self_attn.batch_first was not True(use batch_first for better inference performance)\n",
      "  warnings.warn(\n"
     ]
    },
    {
     "name": "stdout",
     "output_type": "stream",
     "text": [
      "Transformer Val MSE=0.0038, MAE=0.0323, R²=0.9338\n"
     ]
    }
   ],
   "source": [
    "tuned_model = trainer.train_tuned_model()"
   ]
  },
  {
   "cell_type": "code",
   "execution_count": 17,
   "id": "cd46298f",
   "metadata": {},
   "outputs": [
    {
     "name": "stdout",
     "output_type": "stream",
     "text": [
      "\n",
      "Running cross-validation for base model...\n",
      "\n",
      "=== Fold 1 ===\n",
      "[nasa] Normalizing 2014 features\n",
      "[oxford] Normalizing 2014 features\n",
      "[isu] Normalizing 2014 features\n"
     ]
    },
    {
     "name": "stderr",
     "output_type": "stream",
     "text": [
      "c:\\Users\\chris\\anaconda3\\Lib\\site-packages\\torch\\nn\\modules\\transformer.py:385: UserWarning: enable_nested_tensor is True, but self.use_nested_tensor is False because encoder_layer.self_attn.batch_first was not True(use batch_first for better inference performance)\n",
      "  warnings.warn(\n"
     ]
    },
    {
     "name": "stdout",
     "output_type": "stream",
     "text": [
      "Transformer Val MSE=0.0045, MAE=0.0353, R²=0.9209\n",
      "  MSE: 0.0045, MAE: 0.0353, R²: 0.9209\n",
      "\n",
      "=== Fold 2 ===\n",
      "[nasa] Normalizing 2014 features\n",
      "[oxford] Normalizing 2014 features\n",
      "[isu] Normalizing 2014 features\n"
     ]
    },
    {
     "name": "stderr",
     "output_type": "stream",
     "text": [
      "c:\\Users\\chris\\anaconda3\\Lib\\site-packages\\torch\\nn\\modules\\transformer.py:385: UserWarning: enable_nested_tensor is True, but self.use_nested_tensor is False because encoder_layer.self_attn.batch_first was not True(use batch_first for better inference performance)\n",
      "  warnings.warn(\n"
     ]
    },
    {
     "name": "stdout",
     "output_type": "stream",
     "text": [
      "Transformer Val MSE=0.0049, MAE=0.0451, R²=0.8572\n",
      "  MSE: 0.0049, MAE: 0.0451, R²: 0.8572\n",
      "\n",
      "=== Fold 3 ===\n",
      "[nasa] Normalizing 2014 features\n",
      "[oxford] Normalizing 2014 features\n",
      "[isu] Normalizing 2014 features\n"
     ]
    },
    {
     "name": "stderr",
     "output_type": "stream",
     "text": [
      "c:\\Users\\chris\\anaconda3\\Lib\\site-packages\\torch\\nn\\modules\\transformer.py:385: UserWarning: enable_nested_tensor is True, but self.use_nested_tensor is False because encoder_layer.self_attn.batch_first was not True(use batch_first for better inference performance)\n",
      "  warnings.warn(\n"
     ]
    },
    {
     "name": "stdout",
     "output_type": "stream",
     "text": [
      "Transformer Val MSE=0.0025, MAE=0.0332, R²=0.9464\n",
      "  MSE: 0.0025, MAE: 0.0332, R²: 0.9464\n",
      "\n",
      "=== Fold 4 ===\n",
      "[nasa] Normalizing 2014 features\n",
      "[oxford] Normalizing 2014 features\n",
      "[isu] Normalizing 2014 features\n"
     ]
    },
    {
     "name": "stderr",
     "output_type": "stream",
     "text": [
      "c:\\Users\\chris\\anaconda3\\Lib\\site-packages\\torch\\nn\\modules\\transformer.py:385: UserWarning: enable_nested_tensor is True, but self.use_nested_tensor is False because encoder_layer.self_attn.batch_first was not True(use batch_first for better inference performance)\n",
      "  warnings.warn(\n"
     ]
    },
    {
     "name": "stdout",
     "output_type": "stream",
     "text": [
      "Transformer Val MSE=0.0015, MAE=0.0240, R²=0.9604\n",
      "  MSE: 0.0015, MAE: 0.0240, R²: 0.9604\n",
      "\n",
      "=== Fold 5 ===\n",
      "[nasa] Normalizing 2014 features\n",
      "[oxford] Normalizing 2014 features\n",
      "[isu] Normalizing 2014 features\n"
     ]
    },
    {
     "name": "stderr",
     "output_type": "stream",
     "text": [
      "c:\\Users\\chris\\anaconda3\\Lib\\site-packages\\torch\\nn\\modules\\transformer.py:385: UserWarning: enable_nested_tensor is True, but self.use_nested_tensor is False because encoder_layer.self_attn.batch_first was not True(use batch_first for better inference performance)\n",
      "  warnings.warn(\n"
     ]
    },
    {
     "name": "stdout",
     "output_type": "stream",
     "text": [
      "Transformer Val MSE=0.0038, MAE=0.0400, R²=0.9476\n",
      "  MSE: 0.0038, MAE: 0.0400, R²: 0.9476\n",
      "\n",
      "=== Average CV Performance ===\n",
      "Avg MSE: 0.0034\n",
      "Avg MAE: 0.0355\n",
      "Avg R² : 0.9265\n",
      "\n",
      "Running cross-validation for tuned model...\n",
      "\n",
      "=== Fold 1 ===\n",
      "[nasa] Normalizing 2014 features\n",
      "[oxford] Normalizing 2014 features\n",
      "[isu] Normalizing 2014 features\n"
     ]
    },
    {
     "name": "stderr",
     "output_type": "stream",
     "text": [
      "c:\\Users\\chris\\anaconda3\\Lib\\site-packages\\torch\\nn\\modules\\transformer.py:385: UserWarning: enable_nested_tensor is True, but self.use_nested_tensor is False because encoder_layer.self_attn.batch_first was not True(use batch_first for better inference performance)\n",
      "  warnings.warn(\n"
     ]
    },
    {
     "name": "stdout",
     "output_type": "stream",
     "text": [
      "Transformer Val MSE=0.0014, MAE=0.0190, R²=0.9761\n",
      "  MSE: 0.0014, MAE: 0.0190, R²: 0.9761\n",
      "\n",
      "=== Fold 2 ===\n",
      "[nasa] Normalizing 2014 features\n",
      "[oxford] Normalizing 2014 features\n",
      "[isu] Normalizing 2014 features\n"
     ]
    },
    {
     "name": "stderr",
     "output_type": "stream",
     "text": [
      "c:\\Users\\chris\\anaconda3\\Lib\\site-packages\\torch\\nn\\modules\\transformer.py:385: UserWarning: enable_nested_tensor is True, but self.use_nested_tensor is False because encoder_layer.self_attn.batch_first was not True(use batch_first for better inference performance)\n",
      "  warnings.warn(\n"
     ]
    },
    {
     "name": "stdout",
     "output_type": "stream",
     "text": [
      "Transformer Val MSE=0.0047, MAE=0.0459, R²=0.8628\n",
      "  MSE: 0.0047, MAE: 0.0459, R²: 0.8628\n",
      "\n",
      "=== Fold 3 ===\n",
      "[nasa] Normalizing 2014 features\n",
      "[oxford] Normalizing 2014 features\n",
      "[isu] Normalizing 2014 features\n"
     ]
    },
    {
     "name": "stderr",
     "output_type": "stream",
     "text": [
      "c:\\Users\\chris\\anaconda3\\Lib\\site-packages\\torch\\nn\\modules\\transformer.py:385: UserWarning: enable_nested_tensor is True, but self.use_nested_tensor is False because encoder_layer.self_attn.batch_first was not True(use batch_first for better inference performance)\n",
      "  warnings.warn(\n"
     ]
    },
    {
     "name": "stdout",
     "output_type": "stream",
     "text": [
      "Transformer Val MSE=0.0011, MAE=0.0171, R²=0.9758\n",
      "  MSE: 0.0011, MAE: 0.0171, R²: 0.9758\n",
      "\n",
      "=== Fold 4 ===\n",
      "[nasa] Normalizing 2014 features\n",
      "[oxford] Normalizing 2014 features\n",
      "[isu] Normalizing 2014 features\n"
     ]
    },
    {
     "name": "stderr",
     "output_type": "stream",
     "text": [
      "c:\\Users\\chris\\anaconda3\\Lib\\site-packages\\torch\\nn\\modules\\transformer.py:385: UserWarning: enable_nested_tensor is True, but self.use_nested_tensor is False because encoder_layer.self_attn.batch_first was not True(use batch_first for better inference performance)\n",
      "  warnings.warn(\n"
     ]
    },
    {
     "name": "stdout",
     "output_type": "stream",
     "text": [
      "Transformer Val MSE=0.0014, MAE=0.0229, R²=0.9634\n",
      "  MSE: 0.0014, MAE: 0.0229, R²: 0.9634\n",
      "\n",
      "=== Fold 5 ===\n",
      "[nasa] Normalizing 2014 features\n",
      "[oxford] Normalizing 2014 features\n",
      "[isu] Normalizing 2014 features\n"
     ]
    },
    {
     "name": "stderr",
     "output_type": "stream",
     "text": [
      "c:\\Users\\chris\\anaconda3\\Lib\\site-packages\\torch\\nn\\modules\\transformer.py:385: UserWarning: enable_nested_tensor is True, but self.use_nested_tensor is False because encoder_layer.self_attn.batch_first was not True(use batch_first for better inference performance)\n",
      "  warnings.warn(\n"
     ]
    },
    {
     "name": "stdout",
     "output_type": "stream",
     "text": [
      "Transformer Val MSE=0.0015, MAE=0.0199, R²=0.9794\n",
      "  MSE: 0.0015, MAE: 0.0199, R²: 0.9794\n",
      "\n",
      "=== Average CV Performance ===\n",
      "Avg MSE: 0.0020\n",
      "Avg MAE: 0.0250\n",
      "Avg R² : 0.9515\n"
     ]
    },
    {
     "name": "stderr",
     "output_type": "stream",
     "text": [
      "c:\\Users\\chris\\anaconda3\\Lib\\site-packages\\seaborn\\_oldcore.py:1119: FutureWarning: use_inf_as_na option is deprecated and will be removed in a future version. Convert inf values to NaN before operating instead.\n",
      "  with pd.option_context('mode.use_inf_as_na', True):\n",
      "c:\\Users\\chris\\anaconda3\\Lib\\site-packages\\seaborn\\_oldcore.py:1119: FutureWarning: use_inf_as_na option is deprecated and will be removed in a future version. Convert inf values to NaN before operating instead.\n",
      "  with pd.option_context('mode.use_inf_as_na', True):\n",
      "c:\\Users\\chris\\anaconda3\\Lib\\site-packages\\seaborn\\_oldcore.py:1075: FutureWarning: When grouping with a length-1 list-like, you will need to pass a length-1 tuple to get_group in a future version of pandas. Pass `(name,)` instead of `name` to silence this warning.\n",
      "  data_subset = grouped_data.get_group(pd_key)\n",
      "c:\\Users\\chris\\anaconda3\\Lib\\site-packages\\seaborn\\_oldcore.py:1119: FutureWarning: use_inf_as_na option is deprecated and will be removed in a future version. Convert inf values to NaN before operating instead.\n",
      "  with pd.option_context('mode.use_inf_as_na', True):\n",
      "c:\\Users\\chris\\anaconda3\\Lib\\site-packages\\seaborn\\_oldcore.py:1119: FutureWarning: use_inf_as_na option is deprecated and will be removed in a future version. Convert inf values to NaN before operating instead.\n",
      "  with pd.option_context('mode.use_inf_as_na', True):\n",
      "c:\\Users\\chris\\anaconda3\\Lib\\site-packages\\seaborn\\_oldcore.py:1075: FutureWarning: When grouping with a length-1 list-like, you will need to pass a length-1 tuple to get_group in a future version of pandas. Pass `(name,)` instead of `name` to silence this warning.\n",
      "  data_subset = grouped_data.get_group(pd_key)\n",
      "c:\\Users\\chris\\anaconda3\\Lib\\site-packages\\seaborn\\_oldcore.py:1119: FutureWarning: use_inf_as_na option is deprecated and will be removed in a future version. Convert inf values to NaN before operating instead.\n",
      "  with pd.option_context('mode.use_inf_as_na', True):\n",
      "c:\\Users\\chris\\anaconda3\\Lib\\site-packages\\seaborn\\_oldcore.py:1119: FutureWarning: use_inf_as_na option is deprecated and will be removed in a future version. Convert inf values to NaN before operating instead.\n",
      "  with pd.option_context('mode.use_inf_as_na', True):\n",
      "c:\\Users\\chris\\anaconda3\\Lib\\site-packages\\seaborn\\_oldcore.py:1075: FutureWarning: When grouping with a length-1 list-like, you will need to pass a length-1 tuple to get_group in a future version of pandas. Pass `(name,)` instead of `name` to silence this warning.\n",
      "  data_subset = grouped_data.get_group(pd_key)\n"
     ]
    },
    {
     "data": {
      "image/png": "[encoded data removed]",
      "text/plain": [
       "<Figure size 1500x500 with 3 Axes>"
      ]
     },
     "metadata": {},
     "output_type": "display_data"
    }
   ],
   "source": [
    "trainer.compare_base_vs_tuned_cv()"
   ]
  },
  {
   "cell_type": "code",
   "execution_count": null,
   "id": "59db58b8",
   "metadata": {},
   "outputs": [],
   "source": []
  }
 ],
 "metadata": {
  "kernelspec": {
   "display_name": "base",
   "language": "python",
   "name": "python3"
  },
  "language_info": {
   "codemirror_mode": {
    "name": "ipython",
    "version": 3
   },
   "file_extension": ".py",
   "mimetype": "text/x-python",
   "name": "python",
   "nbconvert_exporter": "python",
   "pygments_lexer": "ipython3",
   "version": "3.11.5"
  }
 },
 "nbformat": 4,
 "nbformat_minor": 5
}
